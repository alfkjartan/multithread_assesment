{
 "cells": [
  {
   "cell_type": "markdown",
   "id": "afad3783",
   "metadata": {},
   "source": [
    "# Simulating a sensor network"
   ]
  },
  {
   "cell_type": "code",
   "execution_count": 1,
   "id": "1c1dd7e4",
   "metadata": {},
   "outputs": [],
   "source": [
    "# Cloning the repository and installing dependencies (on google colab)\n",
    "#!git clone https://github.com/alfkjartan/multithread_assesment.git multithread_assessment\n",
    "#%cd multithread_assessment\n",
    "#!pip3 install -r requirements.txt"
   ]
  },
  {
   "cell_type": "markdown",
   "id": "e5328181",
   "metadata": {},
   "source": [
    "### Add parent directory to path, to locate code "
   ]
  },
  {
   "cell_type": "code",
   "execution_count": 2,
   "id": "eb5ea92a",
   "metadata": {},
   "outputs": [],
   "source": [
    "import sys\n",
    "sys.path.append(\"../\") # add parent dir"
   ]
  },
  {
   "cell_type": "markdown",
   "id": "d8198f46",
   "metadata": {},
   "source": [
    "### Imports"
   ]
  },
  {
   "cell_type": "code",
   "execution_count": 3,
   "id": "b716d41d",
   "metadata": {},
   "outputs": [],
   "source": [
    "import numpy as np\n",
    "import random\n",
    "from datetime import datetime\n",
    "from multiprocessing import Event as ProcessEvent\n",
    "from multiprocessing import Process\n",
    "from threading import Thread\n",
    "from threading import Event as ThreadEvent\n",
    "from functools import partial\n",
    "from service.repository.logging import Logger\n",
    "from service.repository.repository import Repository\n",
    "from utils.network import Connection\n",
    "from service.model.message import Message\n",
    "from sensors.base_sensor import Sensor\n",
    "from sensors.probe import *\n",
    "#import matplotlib.pyplot as plt\n",
    "%matplotlib notebook"
   ]
  },
  {
   "cell_type": "markdown",
   "id": "ae153557",
   "metadata": {},
   "source": [
    "## Settings"
   ]
  },
  {
   "cell_type": "code",
   "execution_count": 4,
   "id": "b199e3ae",
   "metadata": {},
   "outputs": [],
   "source": [
    "connection_type = (\"socket\", \"shared_memory\", \"pipe\")[0]\n",
    "system_sensor_data = True # If True gets data from psutil, otherwise from random.randint\n",
    "num_sensors = 6 # Only used if system_sensor_data is False\n",
    "log_to_plot = False # Matplotlib in separate Process will not show\n",
    "log_to_screen = False # Mostly for debug\n",
    "log_to_list = True # If True, also logs to a list \n",
    "csv_logfile = datetime.now().strftime(\"sensorlog-%Y-%m-%d.csv\")\n",
    "if connection_type == \"socket\":\n",
    "    host = '127.0.0.1'\n",
    "    port = 33330\n"
   ]
  },
  {
   "cell_type": "markdown",
   "id": "137cb49f",
   "metadata": {},
   "source": [
    "## Setting up the logger"
   ]
  },
  {
   "cell_type": "code",
   "execution_count": 5,
   "id": "13e83bc4",
   "metadata": {},
   "outputs": [],
   "source": [
    "logger = Logger()\n",
    "logger.add_repository(Repository.csv_repository(csv_logfile))\n",
    "if log_to_screen: logger.add_repository(Repository.screen_dump())\n",
    "if log_to_plot: logger.add_repository(Repository.plot(num_sensors))\n",
    "if log_to_list: \n",
    "    log_list = []\n",
    "    logger.add_repository(log_list) # Works because `Repository` objects are list-like \n"
   ]
  },
  {
   "cell_type": "markdown",
   "id": "80d5e2f1",
   "metadata": {},
   "source": [
    "## Setting up the connection between sensors and logger"
   ]
  },
  {
   "cell_type": "code",
   "execution_count": 6,
   "id": "20000fbd",
   "metadata": {},
   "outputs": [
    {
     "name": "stdout",
     "output_type": "stream",
     "text": [
      "\n",
      "Server 127.0.0.1:33330 is listening.\n"
     ]
    }
   ],
   "source": [
    "if connection_type == 'socket':\n",
    "    connection_factory = partial(Connection.create_socket_connection, host=host, port=port)\n",
    "elif connection_type == 'shared_memory':\n",
    "    connection_factory = Connection.create_memory_connection\n",
    "elif connection_type == 'pipe':\n",
    "    connection_factory = Connection.create_pipe_connection\n",
    "\n",
    "# Creating Event objects to signal stop of simulation\n",
    "proc_stop_event = ProcessEvent()\n",
    "thread_stop_event = ThreadEvent()\n",
    "\n",
    "sensor_connections = []\n",
    "server_connections = [] # Need acces to these for closing down gracefully\n",
    "server_threads = []\n",
    "for _ in range(num_sensors):\n",
    "    server_connection, client_connection = connection_factory(logger) \n",
    "    sensor_connections.append(client_connection)\n",
    "        \n",
    "    if server_connections != []:\n",
    "        if connection_type == 'socket':\n",
    "            # Singleton server connection used with socket communication\n",
    "            # Avoid starting new thread to serve the same ip adress\n",
    "            pass\n",
    "        else:\n",
    "            # Shared memory or pipe communications\n",
    "            server_thread = Thread(target = server_connection.run, args = [thread_stop_event])\n",
    "            server_thread.start()\n",
    "            server_connections.append(server_connection)\n",
    "            server_threads.append(server_thread)\n",
    "\n",
    "    else: # Empty list server_connections, so append the first\n",
    "        server_thread = Thread(target = server_connection.run, args = [thread_stop_event])\n",
    "        server_thread.start()\n",
    "        server_connections.append(server_connection)\n",
    "        server_threads.append(server_thread)\n"
   ]
  },
  {
   "cell_type": "markdown",
   "id": "66bc018b",
   "metadata": {},
   "source": [
    "## Creating and spawning the sensors"
   ]
  },
  {
   "cell_type": "code",
   "execution_count": 7,
   "id": "4927ebb4",
   "metadata": {},
   "outputs": [
    {
     "name": "stdout",
     "output_type": "stream",
     "text": [
      "Created sensor processes.\n",
      "Started sensors.\n"
     ]
    },
    {
     "name": "stderr",
     "output_type": "stream",
     "text": [
      "Client connected. Type of return value  <class 'NoneType'>\n",
      "Client connected. Type of return value  <class 'NoneType'>\n",
      "Client connected. Type of return value  <class 'NoneType'>\n",
      "Client connected. Type of return value  <class 'NoneType'>\n"
     ]
    },
    {
     "name": "stdout",
     "output_type": "stream",
     "text": [
      "CPU temperature (Celcius) received stop event. Sending None and closing connection.\n",
      "Closing down socket.\n",
      "CPU utilization (percent) received stop event. Sending None and closing connection.\n",
      "Closing down socket.\n",
      "Memory available (Gb) received stop event. Sending None and closing connection.\n",
      "Closing down socket.\n",
      "Load average (divide with number of cpu cores) received stop event. Sending None and closing connection.\n",
      "Closing down socket.\n"
     ]
    }
   ],
   "source": [
    "if system_sensor_data:\n",
    "    dts = [0.5, 5, 0.5, 0.5] # The sampling period of the sensors\n",
    "    sensor_probes = {'CPU utilization (percent)' : cpu_utilization,\n",
    "                     'Load average (divide with number of cpu cores)' : load_average,\n",
    "                     'Memory available (Gb)' : memory_available,\n",
    "                     'CPU temperature (Celcius)' : cpu_temp}\n",
    "else:\n",
    "    dts = np.arange(1, num_sensors+2) # The sampling period of the sensors\n",
    "    sensor_probes = {}\n",
    "    for dt_ in range(num_sensors):\n",
    "        sensor_probes[f'Sensor-{dt_}'] = lambda : random.randint(-100, 100)\n",
    "            \n",
    "sensors = [Sensor(id, name, sampling_period = dt,\n",
    "                  probe=sensor_probes[name],\n",
    "                  connection = conn) \\\n",
    "               for id, name, dt, conn in zip(range(num_sensors), sensor_probes.keys(),\n",
    "                                             dts, sensor_connections)]\n",
    "print(\"Created sensor processes.\")\n",
    "sensor_processes = [Process(target=s.run, args=[proc_stop_event]) for s in sensors]\n",
    "for p in sensor_processes:\n",
    "    p.start()\n",
    "print(\"Started sensors.\")\n",
    "\n"
   ]
  },
  {
   "cell_type": "markdown",
   "id": "76c786cf",
   "metadata": {},
   "source": [
    "## Closing down"
   ]
  },
  {
   "cell_type": "code",
   "execution_count": 8,
   "id": "611f7a6c",
   "metadata": {},
   "outputs": [
    {
     "name": "stdout",
     "output_type": "stream",
     "text": [
      "Server accepting connection\n",
      "Server accepting connection\n",
      "Server accepting connection\n",
      "Server accepting connection\n",
      "Press return to end simulation\n",
      "ServerConnection with socket <socket.socket fd=74, family=AddressFamily.AF_INET, type=SocketKind.SOCK_STREAM, proto=0, laddr=('127.0.0.1', 33330), raddr=('127.0.0.1', 47664)> received stop signal\n",
      "ServerConnection with socket <socket.socket fd=64, family=AddressFamily.AF_INET, type=SocketKind.SOCK_STREAM, proto=0, laddr=('127.0.0.1', 33330), raddr=('127.0.0.1', 47650)> received stop signal\n",
      "ServerConnection with socket <socket.socket fd=72, family=AddressFamily.AF_INET, type=SocketKind.SOCK_STREAM, proto=0, laddr=('127.0.0.1', 33330), raddr=('127.0.0.1', 47658)> received stop signal\n",
      "ServerConnection with socket <socket.socket fd=76, family=AddressFamily.AF_INET, type=SocketKind.SOCK_STREAM, proto=0, laddr=('127.0.0.1', 33330), raddr=('127.0.0.1', 47674)> received stop signal\n",
      "All sensor processes done.\n",
      "id = 0,  name = CPU utilization (percent), data = 49.3, timestamp = 2023-03-12_19:31:48.935322\n",
      "id = 2,  name = Memory available (Gb), data = 20.455563264000002, timestamp = 2023-03-12_19:31:48.955902\n",
      "id = 3,  name = CPU temperature (Celcius), data = 25.0, timestamp = 2023-03-12_19:31:49.006507\n",
      "id = 0,  name = CPU utilization (percent), data = 44.2, timestamp = 2023-03-12_19:31:49.453584\n",
      "id = 2,  name = Memory available (Gb), data = 20.452274176, timestamp = 2023-03-12_19:31:49.480236\n",
      "id = 3,  name = CPU temperature (Celcius), data = 25.0, timestamp = 2023-03-12_19:31:49.544226\n",
      "id = 0,  name = CPU utilization (percent), data = 32.9, timestamp = 2023-03-12_19:31:49.954566\n",
      "id = 2,  name = Memory available (Gb), data = 20.451561472, timestamp = 2023-03-12_19:31:49.981526\n",
      "id = 3,  name = CPU temperature (Celcius), data = 25.0, timestamp = 2023-03-12_19:31:50.065755\n",
      "id = 0,  name = CPU utilization (percent), data = 35.5, timestamp = 2023-03-12_19:31:50.455663\n",
      "id = 2,  name = Memory available (Gb), data = 20.455198720000002, timestamp = 2023-03-12_19:31:50.483132\n",
      "id = 3,  name = CPU temperature (Celcius), data = 25.0, timestamp = 2023-03-12_19:31:50.583550\n",
      "id = 0,  name = CPU utilization (percent), data = 30.1, timestamp = 2023-03-12_19:31:50.956950\n",
      "id = 2,  name = Memory available (Gb), data = 20.454055936, timestamp = 2023-03-12_19:31:50.984736\n",
      "id = 3,  name = CPU temperature (Celcius), data = 25.0, timestamp = 2023-03-12_19:31:51.105565\n",
      "id = 0,  name = CPU utilization (percent), data = 40.4, timestamp = 2023-03-12_19:31:51.458266\n",
      "id = 2,  name = Memory available (Gb), data = 20.451127296000003, timestamp = 2023-03-12_19:31:51.486228\n",
      "id = 3,  name = CPU temperature (Celcius), data = 25.0, timestamp = 2023-03-12_19:31:51.624519\n",
      "id = 0,  name = CPU utilization (percent), data = 26.8, timestamp = 2023-03-12_19:31:51.959540\n",
      "id = 2,  name = Memory available (Gb), data = 20.449951744, timestamp = 2023-03-12_19:31:51.987484\n",
      "id = 3,  name = CPU temperature (Celcius), data = 25.0, timestamp = 2023-03-12_19:31:52.145091\n",
      "id = 0,  name = CPU utilization (percent), data = 32.7, timestamp = 2023-03-12_19:31:52.460771\n",
      "id = 2,  name = Memory available (Gb), data = 20.448321536, timestamp = 2023-03-12_19:31:52.488651\n",
      "id = 3,  name = CPU temperature (Celcius), data = 25.0, timestamp = 2023-03-12_19:31:52.659251\n",
      "id = 0,  name = CPU utilization (percent), data = 47.0, timestamp = 2023-03-12_19:31:52.962116\n",
      "id = 2,  name = Memory available (Gb), data = 20.446928896000003, timestamp = 2023-03-12_19:31:52.989815\n",
      "id = 3,  name = CPU temperature (Celcius), data = 25.0, timestamp = 2023-03-12_19:31:53.178027\n",
      "id = 1,  name = Load average (divide with number of cpu cores), data = 2.5, timestamp = 2023-03-12_19:31:53.446829\n",
      "id = 0,  name = CPU utilization (percent), data = 31.0, timestamp = 2023-03-12_19:31:53.462915\n",
      "id = 2,  name = Memory available (Gb), data = 20.446478336000002, timestamp = 2023-03-12_19:31:53.491007\n",
      "id = 3,  name = CPU temperature (Celcius), data = 25.0, timestamp = 2023-03-12_19:31:53.700689\n",
      "id = 0,  name = CPU utilization (percent), data = 34.3, timestamp = 2023-03-12_19:31:53.964053\n",
      "id = 2,  name = Memory available (Gb), data = 20.445552640000002, timestamp = 2023-03-12_19:31:53.992274\n",
      "id = 3,  name = CPU temperature (Celcius), data = 25.0, timestamp = 2023-03-12_19:31:54.217438\n",
      "id = 0,  name = CPU utilization (percent), data = 20.1, timestamp = 2023-03-12_19:31:54.465251\n",
      "id = 2,  name = Memory available (Gb), data = 20.445552640000002, timestamp = 2023-03-12_19:31:54.493504\n",
      "id = 3,  name = CPU temperature (Celcius), data = None, timestamp = 2023-03-12_19:31:54.217438\n",
      "id = 0,  name = CPU utilization (percent), data = None, timestamp = 2023-03-12_19:31:54.465251\n",
      "id = 2,  name = Memory available (Gb), data = None, timestamp = 2023-03-12_19:31:54.493504\n",
      "id = 1,  name = Load average (divide with number of cpu cores), data = None, timestamp = 2023-03-12_19:31:53.446829\n",
      "Server host = 127.0.0.1 and port = 33330 is closing down.\n"
     ]
    },
    {
     "ename": "KeyboardInterrupt",
     "evalue": "",
     "output_type": "error",
     "traceback": [
      "\u001b[0;31m---------------------------------------------------------------------------\u001b[0m",
      "\u001b[0;31mKeyboardInterrupt\u001b[0m                         Traceback (most recent call last)",
      "\u001b[0;32m/tmp/ipykernel_266917/1656837985.py\u001b[0m in \u001b[0;36m<module>\u001b[0;34m\u001b[0m\n\u001b[1;32m     16\u001b[0m \u001b[0;34m\u001b[0m\u001b[0m\n\u001b[1;32m     17\u001b[0m \u001b[0;32mfor\u001b[0m \u001b[0ms\u001b[0m \u001b[0;32min\u001b[0m \u001b[0mserver_threads\u001b[0m\u001b[0;34m:\u001b[0m\u001b[0;34m\u001b[0m\u001b[0;34m\u001b[0m\u001b[0m\n\u001b[0;32m---> 18\u001b[0;31m     \u001b[0ms\u001b[0m\u001b[0;34m.\u001b[0m\u001b[0mjoin\u001b[0m\u001b[0;34m(\u001b[0m\u001b[0;34m)\u001b[0m\u001b[0;34m\u001b[0m\u001b[0;34m\u001b[0m\u001b[0m\n\u001b[0m\u001b[1;32m     19\u001b[0m \u001b[0;34m\u001b[0m\u001b[0m\n\u001b[1;32m     20\u001b[0m \u001b[0mprint\u001b[0m\u001b[0;34m(\u001b[0m\u001b[0;34m\"All server threads done. Exiting.\"\u001b[0m\u001b[0;34m)\u001b[0m\u001b[0;34m\u001b[0m\u001b[0;34m\u001b[0m\u001b[0m\n",
      "\u001b[0;32m~/.pyenv/versions/3.8.11/lib/python3.8/threading.py\u001b[0m in \u001b[0;36mjoin\u001b[0;34m(self, timeout)\u001b[0m\n\u001b[1;32m   1009\u001b[0m \u001b[0;34m\u001b[0m\u001b[0m\n\u001b[1;32m   1010\u001b[0m         \u001b[0;32mif\u001b[0m \u001b[0mtimeout\u001b[0m \u001b[0;32mis\u001b[0m \u001b[0;32mNone\u001b[0m\u001b[0;34m:\u001b[0m\u001b[0;34m\u001b[0m\u001b[0;34m\u001b[0m\u001b[0m\n\u001b[0;32m-> 1011\u001b[0;31m             \u001b[0mself\u001b[0m\u001b[0;34m.\u001b[0m\u001b[0m_wait_for_tstate_lock\u001b[0m\u001b[0;34m(\u001b[0m\u001b[0;34m)\u001b[0m\u001b[0;34m\u001b[0m\u001b[0;34m\u001b[0m\u001b[0m\n\u001b[0m\u001b[1;32m   1012\u001b[0m         \u001b[0;32melse\u001b[0m\u001b[0;34m:\u001b[0m\u001b[0;34m\u001b[0m\u001b[0;34m\u001b[0m\u001b[0m\n\u001b[1;32m   1013\u001b[0m             \u001b[0;31m# the behavior of a negative timeout isn't documented, but\u001b[0m\u001b[0;34m\u001b[0m\u001b[0;34m\u001b[0m\u001b[0;34m\u001b[0m\u001b[0m\n",
      "\u001b[0;32m~/.pyenv/versions/3.8.11/lib/python3.8/threading.py\u001b[0m in \u001b[0;36m_wait_for_tstate_lock\u001b[0;34m(self, block, timeout)\u001b[0m\n\u001b[1;32m   1025\u001b[0m         \u001b[0;32mif\u001b[0m \u001b[0mlock\u001b[0m \u001b[0;32mis\u001b[0m \u001b[0;32mNone\u001b[0m\u001b[0;34m:\u001b[0m  \u001b[0;31m# already determined that the C code is done\u001b[0m\u001b[0;34m\u001b[0m\u001b[0;34m\u001b[0m\u001b[0m\n\u001b[1;32m   1026\u001b[0m             \u001b[0;32massert\u001b[0m \u001b[0mself\u001b[0m\u001b[0;34m.\u001b[0m\u001b[0m_is_stopped\u001b[0m\u001b[0;34m\u001b[0m\u001b[0;34m\u001b[0m\u001b[0m\n\u001b[0;32m-> 1027\u001b[0;31m         \u001b[0;32melif\u001b[0m \u001b[0mlock\u001b[0m\u001b[0;34m.\u001b[0m\u001b[0macquire\u001b[0m\u001b[0;34m(\u001b[0m\u001b[0mblock\u001b[0m\u001b[0;34m,\u001b[0m \u001b[0mtimeout\u001b[0m\u001b[0;34m)\u001b[0m\u001b[0;34m:\u001b[0m\u001b[0;34m\u001b[0m\u001b[0;34m\u001b[0m\u001b[0m\n\u001b[0m\u001b[1;32m   1028\u001b[0m             \u001b[0mlock\u001b[0m\u001b[0;34m.\u001b[0m\u001b[0mrelease\u001b[0m\u001b[0;34m(\u001b[0m\u001b[0;34m)\u001b[0m\u001b[0;34m\u001b[0m\u001b[0;34m\u001b[0m\u001b[0m\n\u001b[1;32m   1029\u001b[0m             \u001b[0mself\u001b[0m\u001b[0;34m.\u001b[0m\u001b[0m_stop\u001b[0m\u001b[0;34m(\u001b[0m\u001b[0;34m)\u001b[0m\u001b[0;34m\u001b[0m\u001b[0;34m\u001b[0m\u001b[0m\n",
      "\u001b[0;31mKeyboardInterrupt\u001b[0m: "
     ]
    }
   ],
   "source": [
    "input(\"Press return to end simulation\")\n",
    "\n",
    "thread_stop_event.set()\n",
    "proc_stop_event.set()\n",
    "    \n",
    "for p in sensor_processes:\n",
    "    p.join()\n",
    "\n",
    "print(\"All sensor processes done.\")\n",
    "\n",
    "for sc in server_connections:\n",
    "    sc.close()\n",
    "        \n",
    "for s in server_threads:\n",
    "    s.join()\n",
    "\n",
    "print(\"All server threads done. Exiting.\")\n",
    "\n",
    "    \n"
   ]
  },
  {
   "cell_type": "markdown",
   "id": "6ed3e6b6",
   "metadata": {},
   "source": [
    "## Print logged data"
   ]
  },
  {
   "cell_type": "code",
   "execution_count": 10,
   "id": "f587edea",
   "metadata": {},
   "outputs": [
    {
     "name": "stdout",
     "output_type": "stream",
     "text": [
      "id = 0,  name = CPU utilization (percent), data = 49.3, timestamp = 2023-03-12_19:31:48.935322\n",
      "id = 2,  name = Memory available (Gb), data = 20.455563264000002, timestamp = 2023-03-12_19:31:48.955902\n",
      "id = 3,  name = CPU temperature (Celcius), data = 25.0, timestamp = 2023-03-12_19:31:49.006507\n",
      "id = 0,  name = CPU utilization (percent), data = 44.2, timestamp = 2023-03-12_19:31:49.453584\n",
      "id = 2,  name = Memory available (Gb), data = 20.452274176, timestamp = 2023-03-12_19:31:49.480236\n",
      "id = 3,  name = CPU temperature (Celcius), data = 25.0, timestamp = 2023-03-12_19:31:49.544226\n",
      "id = 0,  name = CPU utilization (percent), data = 32.9, timestamp = 2023-03-12_19:31:49.954566\n",
      "id = 2,  name = Memory available (Gb), data = 20.451561472, timestamp = 2023-03-12_19:31:49.981526\n",
      "id = 3,  name = CPU temperature (Celcius), data = 25.0, timestamp = 2023-03-12_19:31:50.065755\n",
      "id = 0,  name = CPU utilization (percent), data = 35.5, timestamp = 2023-03-12_19:31:50.455663\n",
      "id = 2,  name = Memory available (Gb), data = 20.455198720000002, timestamp = 2023-03-12_19:31:50.483132\n",
      "id = 3,  name = CPU temperature (Celcius), data = 25.0, timestamp = 2023-03-12_19:31:50.583550\n",
      "id = 0,  name = CPU utilization (percent), data = 30.1, timestamp = 2023-03-12_19:31:50.956950\n",
      "id = 2,  name = Memory available (Gb), data = 20.454055936, timestamp = 2023-03-12_19:31:50.984736\n",
      "id = 3,  name = CPU temperature (Celcius), data = 25.0, timestamp = 2023-03-12_19:31:51.105565\n",
      "id = 0,  name = CPU utilization (percent), data = 40.4, timestamp = 2023-03-12_19:31:51.458266\n",
      "id = 2,  name = Memory available (Gb), data = 20.451127296000003, timestamp = 2023-03-12_19:31:51.486228\n",
      "id = 3,  name = CPU temperature (Celcius), data = 25.0, timestamp = 2023-03-12_19:31:51.624519\n",
      "id = 0,  name = CPU utilization (percent), data = 26.8, timestamp = 2023-03-12_19:31:51.959540\n",
      "id = 2,  name = Memory available (Gb), data = 20.449951744, timestamp = 2023-03-12_19:31:51.987484\n",
      "id = 3,  name = CPU temperature (Celcius), data = 25.0, timestamp = 2023-03-12_19:31:52.145091\n",
      "id = 0,  name = CPU utilization (percent), data = 32.7, timestamp = 2023-03-12_19:31:52.460771\n",
      "id = 2,  name = Memory available (Gb), data = 20.448321536, timestamp = 2023-03-12_19:31:52.488651\n",
      "id = 3,  name = CPU temperature (Celcius), data = 25.0, timestamp = 2023-03-12_19:31:52.659251\n",
      "id = 0,  name = CPU utilization (percent), data = 47.0, timestamp = 2023-03-12_19:31:52.962116\n",
      "id = 2,  name = Memory available (Gb), data = 20.446928896000003, timestamp = 2023-03-12_19:31:52.989815\n",
      "id = 3,  name = CPU temperature (Celcius), data = 25.0, timestamp = 2023-03-12_19:31:53.178027\n",
      "id = 1,  name = Load average (divide with number of cpu cores), data = 2.5, timestamp = 2023-03-12_19:31:53.446829\n",
      "id = 0,  name = CPU utilization (percent), data = 31.0, timestamp = 2023-03-12_19:31:53.462915\n",
      "id = 2,  name = Memory available (Gb), data = 20.446478336000002, timestamp = 2023-03-12_19:31:53.491007\n",
      "id = 3,  name = CPU temperature (Celcius), data = 25.0, timestamp = 2023-03-12_19:31:53.700689\n",
      "id = 0,  name = CPU utilization (percent), data = 34.3, timestamp = 2023-03-12_19:31:53.964053\n",
      "id = 2,  name = Memory available (Gb), data = 20.445552640000002, timestamp = 2023-03-12_19:31:53.992274\n",
      "id = 3,  name = CPU temperature (Celcius), data = 25.0, timestamp = 2023-03-12_19:31:54.217438\n",
      "id = 0,  name = CPU utilization (percent), data = 20.1, timestamp = 2023-03-12_19:31:54.465251\n",
      "id = 2,  name = Memory available (Gb), data = 20.445552640000002, timestamp = 2023-03-12_19:31:54.493504\n",
      "id = 3,  name = CPU temperature (Celcius), data = None, timestamp = 2023-03-12_19:31:54.217438\n",
      "id = 0,  name = CPU utilization (percent), data = None, timestamp = 2023-03-12_19:31:54.465251\n",
      "id = 2,  name = Memory available (Gb), data = None, timestamp = 2023-03-12_19:31:54.493504\n",
      "id = 1,  name = Load average (divide with number of cpu cores), data = None, timestamp = 2023-03-12_19:31:53.446829\n"
     ]
    },
    {
     "name": "stderr",
     "output_type": "stream",
     "text": [
      "Exception in thread Thread-7:\n",
      "Traceback (most recent call last):\n",
      "  File \"/home/kjartan/.pyenv/versions/3.8.11/lib/python3.8/threading.py\", line 932, in _bootstrap_inner\n",
      "    self.run()\n",
      "  File \"/home/kjartan/.pyenv/versions/3.8.11/lib/python3.8/threading.py\", line 870, in run\n",
      "    self._target(*self._args, **self._kwargs)\n",
      "  File \"/home/kjartan/projects/multithread_assessment/notebooks/../utils/network.py\", line 196, in run\n",
      "    client_sock, addr = self.server_socket.accept()\n",
      "  File \"/home/kjartan/.pyenv/versions/3.8.11/lib/python3.8/socket.py\", line 292, in accept\n",
      "    fd, addr = self._accept()\n",
      "OSError: [Errno 9] Bad file descriptor\n"
     ]
    },
    {
     "name": "stdout",
     "output_type": "stream",
     "text": [
      "Server accepting connection\n",
      "ServerConnection with socket <socket.socket fd=77, family=AddressFamily.AF_INET, type=SocketKind.SOCK_STREAM, proto=0, laddr=('127.0.0.1', 33330), raddr=('127.0.0.1', 42108)> received stop signal\n",
      "Server received stop signal.\n"
     ]
    }
   ],
   "source": [
    "if log_to_list:\n",
    "    for m in log_list:\n",
    "        print(m)"
   ]
  },
  {
   "cell_type": "code",
   "execution_count": null,
   "id": "c8694f1e",
   "metadata": {},
   "outputs": [],
   "source": []
  }
 ],
 "metadata": {
  "kernelspec": {
   "display_name": "Python 3 (ipykernel)",
   "language": "python",
   "name": "python3"
  },
  "language_info": {
   "codemirror_mode": {
    "name": "ipython",
    "version": 3
   },
   "file_extension": ".py",
   "mimetype": "text/x-python",
   "name": "python",
   "nbconvert_exporter": "python",
   "pygments_lexer": "ipython3",
   "version": "3.8.11"
  }
 },
 "nbformat": 4,
 "nbformat_minor": 5
}
