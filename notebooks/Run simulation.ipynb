{
 "cells": [
  {
   "cell_type": "markdown",
   "id": "1daec178",
   "metadata": {},
   "source": [
    "# Simulating a sensor network"
   ]
  },
  {
   "cell_type": "code",
   "execution_count": 1,
   "id": "cc196d67",
   "metadata": {},
   "outputs": [],
   "source": [
    "# Cloning the repository and installing dependencies (on google colab)\n",
    "#!git clone https://github.com/alfkjartan/multithread_assesment.git multithread_assessment\n",
    "#%cd multithread_assessment\n",
    "#!pip3 install -r requirements.txt"
   ]
  },
  {
   "cell_type": "markdown",
   "id": "16e486e7",
   "metadata": {},
   "source": [
    "## Run main program"
   ]
  },
  {
   "cell_type": "markdown",
   "id": "b0eca484",
   "metadata": {},
   "source": [
    "### System data, socket communication"
   ]
  },
  {
   "cell_type": "code",
   "execution_count": null,
   "id": "aa45d988",
   "metadata": {},
   "outputs": [
    {
     "name": "stdout",
     "output_type": "stream",
     "text": [
      "\n",
      "Created sensor processes.\n",
      "Server 127.0.0.1:33339 is listening.\n",
      "Started sensors.\n",
      "Press return to end simulationFigure(1000x1000)\n",
      "Client connected. Type of return value  <class 'NoneType'>\n",
      "Server accepting connection\n",
      "Client connected. Type of return value  <class 'NoneType'>\n",
      "Server accepting connection\n",
      "Server accepting connection\n",
      "Client connected. Type of return value  <class 'NoneType'>\n",
      "Client connected. Type of return value  <class 'NoneType'>\n",
      "Server accepting connection\n"
     ]
    }
   ],
   "source": [
    "!python ../main.py --system_data --connection_type socket --port 33339 --plot\n"
   ]
  },
  {
   "cell_type": "code",
   "execution_count": null,
   "id": "d96252f7",
   "metadata": {},
   "outputs": [],
   "source": []
  }
 ],
 "metadata": {
  "kernelspec": {
   "display_name": "Python 3 (ipykernel)",
   "language": "python",
   "name": "python3"
  },
  "language_info": {
   "codemirror_mode": {
    "name": "ipython",
    "version": 3
   },
   "file_extension": ".py",
   "mimetype": "text/x-python",
   "name": "python",
   "nbconvert_exporter": "python",
   "pygments_lexer": "ipython3",
   "version": "3.8.11"
  }
 },
 "nbformat": 4,
 "nbformat_minor": 5
}
